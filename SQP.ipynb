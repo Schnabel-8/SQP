{
 "cells": [
  {
   "cell_type": "markdown",
   "id": "8cd40035",
   "metadata": {},
   "source": [
    "Sequential Quadratic Programming"
   ]
  },
  {
   "cell_type": "markdown",
   "id": "402633f9",
   "metadata": {},
   "source": [
    "Dependencies: `jax`, `scipy`, `numpy`"
   ]
  },
  {
   "cell_type": "code",
   "execution_count": 1,
   "id": "c513a40c",
   "metadata": {},
   "outputs": [],
   "source": [
    "import numpy as np\n",
    "import jax.numpy as jnp\n",
    "import sys\n",
    "sys.path.append(r\"./src\")\n",
    "from src.impl import sqp"
   ]
  },
  {
   "cell_type": "markdown",
   "id": "834b686a",
   "metadata": {},
   "source": [
    "Define your own Objective Functions and Constrains like this:\n",
    "\n",
    "```python\n",
    "def f(x):\n",
    "    return your_function(x)\n",
    "def cons(x):\n",
    "    return [c1(x),c2(x),...]\n",
    "```\n",
    "\n",
    "* use jnp instead of np in function definitions \n",
    "* write all constraints as \"$ c(x)\\geq 0$\"\n",
    "\n",
    "choose your own $x_0$, $\\epsilon$, $\\sigma$, and $\\rho$, then call : sqp(f,cons,x0,epsi,sigma,rho)\n",
    "\n",
    "* only the first three parameters are necessary"
   ]
  },
  {
   "cell_type": "markdown",
   "id": "66ff3dbd",
   "metadata": {},
   "source": [
    "we use rosenbrock function here as an example:\n",
    "\n",
    "$f_N(x)=\\sum^{N-1}_{i=1}100(x_{i+1}-{x_i}^2)^2+(1-x_i)^2$\n",
    "\n",
    "\\begin{equation*}\n",
    "\\begin{split}\n",
    "&\\min_{x} \\,\\, f_2(x)\\\\\n",
    "&s.t.\\quad  \\left\\{\\begin{array}{lc}\n",
    "1-x_0-2x_1\\geq 0\\\\\n",
    "1-x_0^2-x_1\\geq 0\\\\\n",
    "1-x_0^2+x_1\\geq 0\\\\\n",
    "\\end{array}\\right.\n",
    "\\end{split}\n",
    "\\end{equation*}"
   ]
  },
  {
   "cell_type": "code",
   "execution_count": 2,
   "id": "d9ec934c",
   "metadata": {},
   "outputs": [],
   "source": [
    "#the rosenbrock function\n",
    "def f(x):\n",
    "    return sum(100.0*(x[1:]-x[:-1]**2.0)**2.0 + (1-x[:-1])**2.0)\n",
    "#constrains\n",
    "def cons(x):\n",
    "    return [1-x[0]-2*x[1],1-x[0]**2-x[1],1-x[0]**2+x[1]]"
   ]
  },
  {
   "cell_type": "markdown",
   "id": "9f61bdb3",
   "metadata": {},
   "source": [
    "then call sqp"
   ]
  },
  {
   "cell_type": "code",
   "execution_count": 3,
   "id": "09de9d08",
   "metadata": {},
   "outputs": [
    {
     "name": "stderr",
     "output_type": "stream",
     "text": [
      "WARNING:jax._src.lib.xla_bridge:No GPU/TPU found, falling back to CPU. (Set TF_CPP_MIN_LOG_LEVEL=0 and rerun for more info.)\n"
     ]
    },
    {
     "name": "stdout",
     "output_type": "stream",
     "text": [
      "iter :   1 obj:    0.5472200591088321 p:   0.7447199899674442 xk:   [0.50143112 0.19678437] dk_norm:   0.2491007236018366 alphak:    0.79\n",
      "iter :   2 obj:    0.27739257301497855 p:   0.8039492436807195 xk:   [0.50197016 0.23483961] dk_norm:   0.052135703400866124 alphak:    0.73\n",
      "iter :   3 obj:    0.25282128390284825 p:   0.8528351360222941 xk:   [0.50213773 0.24510352] dk_norm:   0.014062017612101975 alphak:    0.73\n",
      "iter :   4 obj:    0.24967338098438172 p:   0.8695361758604804 xk:   [0.50216198 0.247888  ] dk_norm:   0.0037629567434796837 alphak:    0.74\n"
     ]
    },
    {
     "data": {
      "text/plain": [
       "[array([0.50216198, 0.247888  ]), '0xff820e14cc5']"
      ]
     },
     "execution_count": 3,
     "metadata": {},
     "output_type": "execute_result"
    }
   ],
   "source": [
    "sqp(f,cons,np.array([0.5,0]),1e-3)"
   ]
  },
  {
   "cell_type": "markdown",
   "id": "b6e448f0",
   "metadata": {},
   "source": [
    "another example:\n",
    "\n",
    "$f(u,v)=sin(u+v)$\n",
    "\n",
    "\\begin{equation*}\n",
    "\\begin{split}\n",
    "&\\max_{x} \\,\\, f(u,v)\\\\\n",
    "&s.t.\\quad  \\left\\{\\begin{array}{lc}\n",
    "0 \\leq (u+v)\\leq \\pi\\\\\n",
    "u=v^3\\\\\n",
    "\\end{array}\\right.\n",
    "\\end{split}\n",
    "\\end{equation*}\n"
   ]
  },
  {
   "cell_type": "code",
   "execution_count": null,
   "id": "aad6c7eb",
   "metadata": {},
   "outputs": [
    {
     "name": "stdout",
     "output_type": "stream",
     "text": [
      "iter :   1 obj:    -0.99058574 p:   -0.65558577 xk:   [0.17       1.53812143] dk_norm:   2.3835204541167316 alphak:    0.66\n",
      "iter :   2 obj:    -0.99058574 p:   6.225668 xk:   [0.17       1.53812143] dk_norm:   0.541158894258969 alphak:    0.0\n",
      "iter :   3 obj:    -0.99058574 p:   6.225668 xk:   [0.17       1.53812143] dk_norm:   0.541157104629637 alphak:    0.0\n",
      "iter :   4 obj:    -0.99383813 p:   5.817577 xk:   [0.228382   1.45348377] dk_norm:   0.5411589136622352 alphak:    0.19\n",
      "iter :   5 obj:    -0.9992984 p:   3.9756744 xk:   [0.42045285 1.18780561] dk_norm:   0.4967204150129876 alphak:    0.66\n",
      "iter :   6 obj:    -0.99965626 p:   1.7432885 xk:   [0.48333318 1.11368179] dk_norm:   0.32400747713885425 alphak:    0.3\n",
      "iter :   7 obj:    -0.9999603 p:   0.98295283 xk:   [0.59523024 0.9844775 ] dk_norm:   0.2589743778672547 alphak:    0.66\n",
      "iter :   8 obj:    -0.99998057 p:   0.25925422 xk:   [0.6207968  0.95623765] dk_norm:   0.126979354672239 alphak:    0.3\n",
      "iter :   9 obj:    -0.99999774 p:   0.044273973 xk:   [0.66249077 0.91042667] dk_norm:   0.09385421721464371 alphak:    0.66\n",
      "iter :   10 obj:    -0.9999989 p:   -0.16704786 xk:   [0.66996504 0.90231612] dk_norm:   0.03676437218570836 alphak:    0.3\n"
     ]
    }
   ],
   "source": [
    "def f(x):\n",
    "    return -jnp.sin(x[0])*jnp.cos(x[1])-jnp.sin(x[1])*jnp.cos(x[0])\n",
    "def cons(x):\n",
    "    return [x[0]+x[1],-x[0]-x[1]-jnp.exp(-7*x[0])+jnp.pi,x[0]-x[1]**3,x[1]**3-x[0]]\n",
    "sqp(f,cons,np.array([0.5,0]),1e-3)"
   ]
  }
 ],
 "metadata": {
  "kernelspec": {
   "display_name": "Python 3 (ipykernel)",
   "language": "python",
   "name": "python3"
  },
  "language_info": {
   "codemirror_mode": {
    "name": "ipython",
    "version": 3
   },
   "file_extension": ".py",
   "mimetype": "text/x-python",
   "name": "python",
   "nbconvert_exporter": "python",
   "pygments_lexer": "ipython3",
   "version": "3.9.13"
  }
 },
 "nbformat": 4,
 "nbformat_minor": 5
}
