{
 "cells": [
  {
   "cell_type": "markdown",
   "id": "8cd40035",
   "metadata": {},
   "source": [
    "Sequential Quadratic Programming"
   ]
  },
  {
   "cell_type": "markdown",
   "id": "402633f9",
   "metadata": {},
   "source": [
    "Dependencies: `jax`, `scipy`, `numpy`"
   ]
  },
  {
   "cell_type": "code",
   "execution_count": 18,
   "id": "c513a40c",
   "metadata": {},
   "outputs": [
    {
     "ename": "NameError",
     "evalue": "name 'test' is not defined",
     "output_type": "error",
     "traceback": [
      "\u001b[0;31m---------------------------------------------------------------------------\u001b[0m",
      "\u001b[0;31mNameError\u001b[0m                                 Traceback (most recent call last)",
      "\u001b[0;32m/tmp/ipykernel_62447/694799253.py\u001b[0m in \u001b[0;36m<module>\u001b[0;34m\u001b[0m\n\u001b[1;32m      7\u001b[0m \u001b[0;32mimport\u001b[0m \u001b[0mnumpy\u001b[0m \u001b[0;32mas\u001b[0m \u001b[0mnp\u001b[0m\u001b[0;34m\u001b[0m\u001b[0;34m\u001b[0m\u001b[0m\n\u001b[1;32m      8\u001b[0m \u001b[0;32mfrom\u001b[0m \u001b[0msrc\u001b[0m \u001b[0;32mimport\u001b[0m \u001b[0;34m*\u001b[0m\u001b[0;34m\u001b[0m\u001b[0;34m\u001b[0m\u001b[0m\n\u001b[0;32m----> 9\u001b[0;31m \u001b[0mprint\u001b[0m\u001b[0;34m(\u001b[0m\u001b[0mtest\u001b[0m\u001b[0;34m(\u001b[0m\u001b[0;34m)\u001b[0m\u001b[0;34m)\u001b[0m\u001b[0;34m\u001b[0m\u001b[0;34m\u001b[0m\u001b[0m\n\u001b[0m",
      "\u001b[0;31mNameError\u001b[0m: name 'test' is not defined"
     ]
    }
   ],
   "source": [
    "import jax\n",
    "import jax.numpy as jnp\n",
    "from jax import jacfwd, jacrev, hessian\n",
    "\n",
    "from scipy.optimize import minimize, NonlinearConstraint\n",
    "\n",
    "import numpy as np\n",
    "from src import *\n",
    "print(test())"
   ]
  },
  {
   "cell_type": "markdown",
   "id": "834b686a",
   "metadata": {},
   "source": [
    "Define your own Objective Functions and Constrains here :\n",
    "\n",
    "(we use rosenbrock function here as an example)"
   ]
  },
  {
   "cell_type": "markdown",
   "id": "66ff3dbd",
   "metadata": {},
   "source": [
    "$f_N(x)=\\sum^{N-1}_{i=1}100(x_{i+1}-{x_i}^2)^2+(1-x_i)^2$\n",
    "\n",
    "\\begin{equation*}\n",
    "\\begin{split}\n",
    "&\\min_{x} \\,\\, f_2(x)\\\\\n",
    "&s.t.\\quad  \\left\\{\\begin{array}{lc}\n",
    "1-x_0-2x_1\\geq 0\\\\\n",
    "1-x_0^2-x_1\\geq 0\\\\\n",
    "1-x_0^2+x_1\\geq 0\\\\\n",
    "\\end{array}\\right.\n",
    "\\end{split}\n",
    "\\end{equation*}"
   ]
  },
  {
   "cell_type": "code",
   "execution_count": 2,
   "id": "d9ec934c",
   "metadata": {},
   "outputs": [],
   "source": [
    "#the rosenbrock function\n",
    "def f(x):\n",
    "    return sum(100.0*(x[1:]-x[:-1]**2.0)**2.0 + (1-x[:-1])**2.0)\n",
    "#constrains\n",
    "def cons(x):\n",
    "    return [1-x[0]-2*x[1],1-x[0]**2-x[1],1-x[0]**2+x[1]]"
   ]
  },
  {
   "cell_type": "code",
   "execution_count": null,
   "id": "09de9d08",
   "metadata": {},
   "outputs": [],
   "source": [
    "def rosen_der(x):\n",
    "    return np.array()"
   ]
  }
 ],
 "metadata": {
  "kernelspec": {
   "display_name": "Python 3 (ipykernel)",
   "language": "python",
   "name": "python3"
  },
  "language_info": {
   "codemirror_mode": {
    "name": "ipython",
    "version": 3
   },
   "file_extension": ".py",
   "mimetype": "text/x-python",
   "name": "python",
   "nbconvert_exporter": "python",
   "pygments_lexer": "ipython3",
   "version": "3.9.13"
  }
 },
 "nbformat": 4,
 "nbformat_minor": 5
}
