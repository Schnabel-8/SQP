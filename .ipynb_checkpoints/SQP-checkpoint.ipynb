{
 "cells": [
  {
   "cell_type": "markdown",
   "id": "4157b046",
   "metadata": {},
   "source": [
    "Sequential Quadratic Programming"
   ]
  },
  {
   "cell_type": "code",
   "execution_count": 8,
   "id": "a1acae30",
   "metadata": {
    "scrolled": false
   },
   "outputs": [],
   "source": [
    "import jax.numpy as jnp\n",
    "from jax import grad, jit, vmap\n",
    "from jax import random\n",
    "\n",
    "key = random.PRNGKey(0)"
   ]
  },
  {
   "cell_type": "code",
   "execution_count": 24,
   "id": "9d93a6e9",
   "metadata": {},
   "outputs": [
    {
     "name": "stdout",
     "output_type": "stream",
     "text": [
      "jacfwd result, with shape (4, 3)\n",
      "[[ 0.0395953   0.08528218  0.0586315 ]\n",
      " [ 0.1939475  -0.23802648  0.03305923]\n",
      " [ 0.12545583  0.01447567 -0.31363955]\n",
      " [ 0.17280862 -0.58147764  0.32459995]]\n",
      "jacrev result, with shape (4, 3)\n",
      "[[ 0.0395953   0.08528218  0.0586315 ]\n",
      " [ 0.1939475  -0.23802648  0.03305923]\n",
      " [ 0.12545581  0.01447567 -0.31363955]\n",
      " [ 0.17280862 -0.58147764  0.32459995]]\n",
      "hessian, with shape (4, 3, 3)\n",
      "[[[ 1.71700176e-02  3.69815752e-02  2.54248381e-02]\n",
      "  [ 3.69815789e-02  7.96526223e-02  5.47611937e-02]\n",
      "  [ 2.54248343e-02  5.47611788e-02  3.76483165e-02]]\n",
      "\n",
      " [[ 5.87327257e-02 -7.20810965e-02  1.00112613e-02]\n",
      "  [-7.20810741e-02  8.84631649e-02 -1.22865485e-02]\n",
      "  [ 1.00112604e-02 -1.22865504e-02  1.70646503e-03]]\n",
      "\n",
      " [[ 1.21969143e-02  1.40733621e-03 -3.04922890e-02]\n",
      "  [ 1.40733621e-03  1.62384953e-04 -3.51834111e-03]\n",
      "  [-3.04922853e-02 -3.51834064e-03  7.62307197e-02]]\n",
      "\n",
      " [[ 3.28274891e-02 -1.10460043e-01  6.16624281e-02]\n",
      "  [-1.10460065e-01  3.71683121e-01 -2.07485735e-01]\n",
      "  [ 6.16624467e-02 -2.07485750e-01  1.15825370e-01]]]\n",
      "W:  [-0.43909484 -0.6567052  -0.6411837 ]\n"
     ]
    }
   ],
   "source": [
    "from jax import jacfwd, jacrev\n",
    "\n",
    "def sigmoid(x):\n",
    "    return 0.5 * (jnp.tanh(x / 2) + 1)\n",
    "\n",
    "# Outputs probability of a label being true.\n",
    "def predict(W, b, inputs):\n",
    "    return sigmoid(jnp.dot(inputs, W) + b)\n",
    "\n",
    "# Build a toy dataset.\n",
    "inputs = jnp.array([[0.52, 1.12,  0.77],\n",
    "                   [0.88, -1.08, 0.15],\n",
    "                   [0.52, 0.06, -1.30],\n",
    "                   [0.74, -2.49, 1.39]])\n",
    "targets = jnp.array([True, True, False, True])\n",
    "\n",
    "# Training loss is the negative log-likelihood of the training examples.\n",
    "def loss(W, b):\n",
    "    preds = predict(W, b, inputs)\n",
    "    label_probs = preds * targets + (1 - preds) * (1 - targets)\n",
    "    return -jnp.sum(jnp.log(label_probs))\n",
    "\n",
    "# Initialize random model coefficients\n",
    "key, W_key, b_key = random.split(key, 3)\n",
    "W = random.normal(W_key, (3,))\n",
    "b = random.normal(b_key, ())\n",
    "\n",
    "\n",
    "# Isolate the function from the weight matrix to the predictions\n",
    "f = lambda W: predict(W, b, inputs)\n",
    "\n",
    "J = jacfwd(f)(W)\n",
    "print(\"jacfwd result, with shape\", J.shape)\n",
    "print(J)\n",
    "\n",
    "J = jacrev(f)(W)\n",
    "print(\"jacrev result, with shape\", J.shape)\n",
    "print(J)\n",
    "\n",
    "def hessian(f):\n",
    "    return jacfwd(jacrev(f))\n",
    "\n",
    "H = hessian(f)(W)\n",
    "print(\"hessian, with shape\", H.shape)\n",
    "print(H)\n",
    "\n",
    "print(\"W: \",W)"
   ]
  },
  {
   "cell_type": "code",
   "execution_count": 29,
   "id": "a4b66cd9",
   "metadata": {},
   "outputs": [
    {
     "name": "stdout",
     "output_type": "stream",
     "text": [
      "36.0\n",
      "jacobian, with shape (3,)\n",
      "[ 3. 12. 27.]\n",
      "hessian, with shape (3, 3)\n",
      "[[ 6.  0.  0.]\n",
      " [ 0. 12.  0.]\n",
      " [ 0.  0. 18.]]\n"
     ]
    }
   ],
   "source": [
    "from jax import jacfwd, jacrev\n",
    "\n",
    "def f(x):\n",
    "    return jnp.power(x,3).sum()\n",
    "print(f(jnp.array([1.,2.,3.])))\n",
    "\n",
    "def hessian(f):\n",
    "    return jacfwd(jacrev(f))\n",
    "\n",
    "def jacobian(f):\n",
    "    return jacfwd(f)\n",
    "\n",
    "J = jacobian(f)(jnp.array([1.,2.,3.]))\n",
    "print(\"jacobian, with shape\", J.shape)\n",
    "print(J)\n",
    "\n",
    "H = hessian(f)(jnp.array([1.,2.,3.]))\n",
    "print(\"hessian, with shape\", H.shape)\n",
    "print(H)"
   ]
  },
  {
   "cell_type": "code",
   "execution_count": null,
   "id": "6e999251",
   "metadata": {},
   "outputs": [],
   "source": []
  }
 ],
 "metadata": {
  "kernelspec": {
   "display_name": "Python 3 (ipykernel)",
   "language": "python",
   "name": "python3"
  },
  "language_info": {
   "codemirror_mode": {
    "name": "ipython",
    "version": 3
   },
   "file_extension": ".py",
   "mimetype": "text/x-python",
   "name": "python",
   "nbconvert_exporter": "python",
   "pygments_lexer": "ipython3",
   "version": "3.9.13"
  }
 },
 "nbformat": 4,
 "nbformat_minor": 5
}
